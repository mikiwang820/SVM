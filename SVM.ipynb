{
 "cells": [
  {
   "cell_type": "code",
   "execution_count": 1,
   "metadata": {},
   "outputs": [],
   "source": [
    "#Scikit learn provides the ready-to-use algorithms of machine learning\n",
    "#classification, regression, clustering, model selection, preprocessing, dimensionality reduction...\n",
    "#reference: https://pyecontech.com/2020/04/11/python_svm/\n",
    "#iris dataset: https://blog.yeshuanova.com/2018/10/dataset-iris/\n",
    "\n",
    "from sklearn import svm\n",
    "import pandas as pd\n",
    "import numpy as np\n",
    "import matplotlib.pyplot as plt\n",
    "from sklearn import datasets\n",
    "from sklearn.model_selection import train_test_split"
   ]
  },
  {
   "cell_type": "code",
   "execution_count": 2,
   "metadata": {},
   "outputs": [],
   "source": [
    "#load dataset\n",
    "iris = datasets.load_iris()\n",
    "x = iris.data\n",
    "y = iris.target"
   ]
  },
  {
   "cell_type": "code",
   "execution_count": 3,
   "metadata": {},
   "outputs": [
    {
     "name": "stdout",
     "output_type": "stream",
     "text": [
      "number of data: 150\n",
      "subject 1: setosa\n",
      "sepal length (cm): 5.1\n",
      "sepal width (cm): 3.5\n",
      "petal length (cm): 1.4\n",
      "petal width (cm): 0.2\n",
      "subject 2: setosa\n",
      "sepal length (cm): 4.9\n",
      "sepal width (cm): 3.0\n",
      "petal length (cm): 1.4\n",
      "petal width (cm): 0.2\n",
      "subject 3: setosa\n",
      "sepal length (cm): 4.7\n",
      "sepal width (cm): 3.2\n",
      "petal length (cm): 1.3\n",
      "petal width (cm): 0.2\n",
      "subject 4: setosa\n",
      "sepal length (cm): 4.6\n",
      "sepal width (cm): 3.1\n",
      "petal length (cm): 1.5\n",
      "petal width (cm): 0.2\n",
      "subject 5: setosa\n",
      "sepal length (cm): 5.0\n",
      "sepal width (cm): 3.6\n",
      "petal length (cm): 1.4\n",
      "petal width (cm): 0.2\n"
     ]
    }
   ],
   "source": [
    "#structure of the dataset\n",
    "print(\"number of data: \" + str(len(x)))\n",
    "for i in range(5):\n",
    "    print(\"subject \" + str(i+1) + \": \" + iris.target_names[iris.target[i]])\n",
    "    for i1 in range(len(iris.feature_names)):\n",
    "        print(iris.feature_names[i1] + \": \" + str(iris.data[i][i1]))"
   ]
  },
  {
   "cell_type": "code",
   "execution_count": 4,
   "metadata": {},
   "outputs": [
    {
     "data": {
      "text/plain": [
       "SVC(C=1, break_ties=False, cache_size=200, class_weight=None, coef0=0.0,\n",
       "    decision_function_shape='ovr', degree=3, gamma='auto', kernel='rbf',\n",
       "    max_iter=-1, probability=False, random_state=None, shrinking=True,\n",
       "    tol=0.001, verbose=False)"
      ]
     },
     "execution_count": 4,
     "metadata": {},
     "output_type": "execute_result"
    }
   ],
   "source": [
    "#split dataset\n",
    "x_train, x_test, y_train, y_test = train_test_split(x, y,test_size=0.2,random_state=0)\n",
    "#define model\n",
    "#Guassian (rbf)\n",
    "clf = svm.SVC(kernel='rbf', C=1, gamma='auto')\n",
    "#train model\n",
    "clf.fit(x_train,y_train)"
   ]
  },
  {
   "cell_type": "code",
   "execution_count": 5,
   "metadata": {
    "scrolled": true
   },
   "outputs": [
    {
     "name": "stdout",
     "output_type": "stream",
     "text": [
      "accuracy of train: 0.975\n",
      "accuracy of test: 1.0\n"
     ]
    }
   ],
   "source": [
    "#accuracy\n",
    "print(\"accuracy of train: \" + str(clf.score(x_train,y_train)))\n",
    "print(\"accuracy of test: \" + str(clf.score(x_test, y_test)))"
   ]
  },
  {
   "cell_type": "code",
   "execution_count": 6,
   "metadata": {},
   "outputs": [
    {
     "name": "stdout",
     "output_type": "stream",
     "text": [
      "GT: [2 1 0 2 0]\n",
      "Prediction: [2 1 0 2 0]\n"
     ]
    }
   ],
   "source": [
    "print(\"GT: \" + str(y_test[:5]))\n",
    "print(\"Prediction: \" + str(clf.predict(x_test[:5])))"
   ]
  },
  {
   "cell_type": "code",
   "execution_count": null,
   "metadata": {},
   "outputs": [],
   "source": []
  }
 ],
 "metadata": {
  "kernelspec": {
   "display_name": "Python 3",
   "language": "python",
   "name": "python3"
  },
  "language_info": {
   "codemirror_mode": {
    "name": "ipython",
    "version": 3
   },
   "file_extension": ".py",
   "mimetype": "text/x-python",
   "name": "python",
   "nbconvert_exporter": "python",
   "pygments_lexer": "ipython3",
   "version": "3.7.6"
  }
 },
 "nbformat": 4,
 "nbformat_minor": 4
}
